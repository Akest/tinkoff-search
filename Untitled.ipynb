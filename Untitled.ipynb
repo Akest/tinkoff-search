{
 "cells": [
  {
   "cell_type": "code",
   "execution_count": 123,
   "metadata": {},
   "outputs": [],
   "source": [
    "import numpy as np\n",
    "import pandas as pd\n",
    "import multiprocessing as mp\n",
    "import swifter\n",
    "from sklearn.feature_extraction.text import TfidfVectorizer\n",
    "from utils import preproccessing\n",
    "import pickle\n",
    "import warnings\n",
    "warnings.filterwarnings(\"ignore\")"
   ]
  },
  {
   "cell_type": "code",
   "execution_count": 106,
   "metadata": {},
   "outputs": [],
   "source": [
    "df = pd.read_csv('file.csv')"
   ]
  },
  {
   "cell_type": "code",
   "execution_count": 107,
   "metadata": {},
   "outputs": [
    {
     "data": {
      "text/html": [
       "<div>\n",
       "<style scoped>\n",
       "    .dataframe tbody tr th:only-of-type {\n",
       "        vertical-align: middle;\n",
       "    }\n",
       "\n",
       "    .dataframe tbody tr th {\n",
       "        vertical-align: top;\n",
       "    }\n",
       "\n",
       "    .dataframe thead th {\n",
       "        text-align: right;\n",
       "    }\n",
       "</style>\n",
       "<table border=\"1\" class=\"dataframe\">\n",
       "  <thead>\n",
       "    <tr style=\"text-align: right;\">\n",
       "      <th></th>\n",
       "      <th>post_id</th>\n",
       "      <th>title</th>\n",
       "      <th>text</th>\n",
       "      <th>date</th>\n",
       "      <th>views_count</th>\n",
       "      <th>comments_count</th>\n",
       "      <th>bookmarks_count</th>\n",
       "      <th>rating</th>\n",
       "      <th>author_nickname</th>\n",
       "    </tr>\n",
       "  </thead>\n",
       "  <tbody>\n",
       "    <tr>\n",
       "      <th>0</th>\n",
       "      <td>119006</td>\n",
       "      <td>Российские стартапы в области электронного пра...</td>\n",
       "      <td>Хочу рассказать, что 13 мая в Центральном Доме...</td>\n",
       "      <td>2011-05-10 17:03:00</td>\n",
       "      <td>462</td>\n",
       "      <td>0</td>\n",
       "      <td>1</td>\n",
       "      <td>+2</td>\n",
       "      <td>Alenapopova</td>\n",
       "    </tr>\n",
       "    <tr>\n",
       "      <th>1</th>\n",
       "      <td>61430</td>\n",
       "      <td>Пишем свой плагин для nagios</td>\n",
       "      <td>В своей повседневной работы я очень активно ис...</td>\n",
       "      <td>2009-06-05 11:55:00</td>\n",
       "      <td>9000</td>\n",
       "      <td>6</td>\n",
       "      <td>49</td>\n",
       "      <td>+13</td>\n",
       "      <td>Joka</td>\n",
       "    </tr>\n",
       "    <tr>\n",
       "      <th>2</th>\n",
       "      <td>354000</td>\n",
       "      <td>Микросервисы на php и swoole для конвертации т...</td>\n",
       "      <td>\\n\\nВ предыдущем посте я рассказал про то, как...</td>\n",
       "      <td>2019-03-12 15:37:00</td>\n",
       "      <td>13400</td>\n",
       "      <td>13</td>\n",
       "      <td>57</td>\n",
       "      <td>+19</td>\n",
       "      <td>xtrime</td>\n",
       "    </tr>\n",
       "    <tr>\n",
       "      <th>3</th>\n",
       "      <td>60575</td>\n",
       "      <td>Легализация хостинга</td>\n",
       "      <td>Сразу скажу – 100% легально оказывать услуги х...</td>\n",
       "      <td>2009-05-27 12:32:00</td>\n",
       "      <td>6200</td>\n",
       "      <td>120</td>\n",
       "      <td>44</td>\n",
       "      <td>+20</td>\n",
       "      <td>sneg55</td>\n",
       "    </tr>\n",
       "    <tr>\n",
       "      <th>4</th>\n",
       "      <td>333636</td>\n",
       "      <td>XBRL: Просто о сложном − Глава 1. Введение</td>\n",
       "      <td>Комментарий от переводчика\\nВ 2015 году Центра...</td>\n",
       "      <td>2017-07-18 17:17:00</td>\n",
       "      <td>28600</td>\n",
       "      <td>18</td>\n",
       "      <td>41</td>\n",
       "      <td>+6</td>\n",
       "      <td>r_udaltsov</td>\n",
       "    </tr>\n",
       "    <tr>\n",
       "      <th>...</th>\n",
       "      <td>...</td>\n",
       "      <td>...</td>\n",
       "      <td>...</td>\n",
       "      <td>...</td>\n",
       "      <td>...</td>\n",
       "      <td>...</td>\n",
       "      <td>...</td>\n",
       "      <td>...</td>\n",
       "      <td>...</td>\n",
       "    </tr>\n",
       "    <tr>\n",
       "      <th>11006</th>\n",
       "      <td>329788</td>\n",
       "      <td>HexRaysPyTools: декомпилируй с удовольствием</td>\n",
       "      <td>\\nВ этой статье я собираюсь рассказать о плаги...</td>\n",
       "      <td>2017-06-02 09:35:00</td>\n",
       "      <td>36200</td>\n",
       "      <td>16</td>\n",
       "      <td>114</td>\n",
       "      <td>+48</td>\n",
       "      <td>igogo_x86</td>\n",
       "    </tr>\n",
       "    <tr>\n",
       "      <th>11007</th>\n",
       "      <td>102767</td>\n",
       "      <td>3D Проектор</td>\n",
       "      <td>Не увидел данной новости на Хабре, и подумал ч...</td>\n",
       "      <td>2010-08-27 00:31:00</td>\n",
       "      <td>489</td>\n",
       "      <td>14</td>\n",
       "      <td>1</td>\n",
       "      <td>+2</td>\n",
       "      <td>MAXXL</td>\n",
       "    </tr>\n",
       "    <tr>\n",
       "      <th>11008</th>\n",
       "      <td>478522</td>\n",
       "      <td>Признайтесь, Уотсон, вы совершенно сбиты с толку?</td>\n",
       "      <td>Холмс потер руки и засмеялся от радости.\\n — Н...</td>\n",
       "      <td>2019-12-06 10:06:00</td>\n",
       "      <td>7000</td>\n",
       "      <td>39</td>\n",
       "      <td>22</td>\n",
       "      <td>+4</td>\n",
       "      <td>kababok</td>\n",
       "    </tr>\n",
       "    <tr>\n",
       "      <th>11009</th>\n",
       "      <td>161713</td>\n",
       "      <td>Как я нахожу время?</td>\n",
       "      <td>\\nНа фотографии изображен автор оригинального ...</td>\n",
       "      <td>2012-12-07 05:04:00</td>\n",
       "      <td>105000</td>\n",
       "      <td>145</td>\n",
       "      <td>691</td>\n",
       "      <td>+91</td>\n",
       "      <td>shebanoff</td>\n",
       "    </tr>\n",
       "    <tr>\n",
       "      <th>11010</th>\n",
       "      <td>271363</td>\n",
       "      <td>JS-DOS API: запускаем DOS в браузере</td>\n",
       "      <td>Уже более 5 лет существует проект emscripten. ...</td>\n",
       "      <td>2015-12-01 08:42:00</td>\n",
       "      <td>19400</td>\n",
       "      <td>18</td>\n",
       "      <td>117</td>\n",
       "      <td>+23</td>\n",
       "      <td>Caiiiycuk</td>\n",
       "    </tr>\n",
       "  </tbody>\n",
       "</table>\n",
       "<p>11011 rows × 9 columns</p>\n",
       "</div>"
      ],
      "text/plain": [
       "       post_id                                              title  \\\n",
       "0       119006  Российские стартапы в области электронного пра...   \n",
       "1        61430                       Пишем свой плагин для nagios   \n",
       "2       354000  Микросервисы на php и swoole для конвертации т...   \n",
       "3        60575                               Легализация хостинга   \n",
       "4       333636         XBRL: Просто о сложном − Глава 1. Введение   \n",
       "...        ...                                                ...   \n",
       "11006   329788       HexRaysPyTools: декомпилируй с удовольствием   \n",
       "11007   102767                                        3D Проектор   \n",
       "11008   478522  Признайтесь, Уотсон, вы совершенно сбиты с толку?   \n",
       "11009   161713                                Как я нахожу время?   \n",
       "11010   271363               JS-DOS API: запускаем DOS в браузере   \n",
       "\n",
       "                                                    text                 date  \\\n",
       "0      Хочу рассказать, что 13 мая в Центральном Доме...  2011-05-10 17:03:00   \n",
       "1      В своей повседневной работы я очень активно ис...  2009-06-05 11:55:00   \n",
       "2      \\n\\nВ предыдущем посте я рассказал про то, как...  2019-03-12 15:37:00   \n",
       "3      Сразу скажу – 100% легально оказывать услуги х...  2009-05-27 12:32:00   \n",
       "4      Комментарий от переводчика\\nВ 2015 году Центра...  2017-07-18 17:17:00   \n",
       "...                                                  ...                  ...   \n",
       "11006  \\nВ этой статье я собираюсь рассказать о плаги...  2017-06-02 09:35:00   \n",
       "11007  Не увидел данной новости на Хабре, и подумал ч...  2010-08-27 00:31:00   \n",
       "11008  Холмс потер руки и засмеялся от радости.\\n — Н...  2019-12-06 10:06:00   \n",
       "11009  \\nНа фотографии изображен автор оригинального ...  2012-12-07 05:04:00   \n",
       "11010  Уже более 5 лет существует проект emscripten. ...  2015-12-01 08:42:00   \n",
       "\n",
       "       views_count  comments_count  bookmarks_count rating author_nickname  \n",
       "0              462               0                1     +2     Alenapopova  \n",
       "1             9000               6               49    +13            Joka  \n",
       "2            13400              13               57    +19          xtrime  \n",
       "3             6200             120               44    +20          sneg55  \n",
       "4            28600              18               41     +6      r_udaltsov  \n",
       "...            ...             ...              ...    ...             ...  \n",
       "11006        36200              16              114    +48       igogo_x86  \n",
       "11007          489              14                1     +2           MAXXL  \n",
       "11008         7000              39               22     +4         kababok  \n",
       "11009       105000             145              691    +91       shebanoff  \n",
       "11010        19400              18              117    +23       Caiiiycuk  \n",
       "\n",
       "[11011 rows x 9 columns]"
      ]
     },
     "execution_count": 107,
     "metadata": {},
     "output_type": "execute_result"
    }
   ],
   "source": [
    "df"
   ]
  },
  {
   "cell_type": "code",
   "execution_count": 108,
   "metadata": {},
   "outputs": [],
   "source": [
    "#df.sample(n=11011).to_csv('file.csv')\n",
    "#df.drop(['Unnamed: 0'], axis=1).to_csv('file.csv', index=False)"
   ]
  },
  {
   "cell_type": "code",
   "execution_count": 109,
   "metadata": {},
   "outputs": [
    {
     "name": "stdout",
     "output_type": "stream",
     "text": [
      "<class 'pandas.core.frame.DataFrame'>\n",
      "RangeIndex: 11011 entries, 0 to 11010\n",
      "Data columns (total 9 columns):\n",
      " #   Column           Non-Null Count  Dtype \n",
      "---  ------           --------------  ----- \n",
      " 0   post_id          11011 non-null  int64 \n",
      " 1   title            11011 non-null  object\n",
      " 2   text             10980 non-null  object\n",
      " 3   date             11011 non-null  object\n",
      " 4   views_count      11011 non-null  int64 \n",
      " 5   comments_count   11011 non-null  int64 \n",
      " 6   bookmarks_count  11011 non-null  int64 \n",
      " 7   rating           11011 non-null  object\n",
      " 8   author_nickname  11011 non-null  object\n",
      "dtypes: int64(4), object(5)\n",
      "memory usage: 774.3+ KB\n"
     ]
    }
   ],
   "source": [
    "df.info()"
   ]
  },
  {
   "cell_type": "markdown",
   "metadata": {},
   "source": [
    "Дропнем строки с пропущенными значениями "
   ]
  },
  {
   "cell_type": "code",
   "execution_count": 110,
   "metadata": {},
   "outputs": [],
   "source": [
    "df.dropna(inplace=True)"
   ]
  },
  {
   "cell_type": "markdown",
   "metadata": {},
   "source": [
    "Оставим только нужные столбцы"
   ]
  },
  {
   "cell_type": "code",
   "execution_count": 113,
   "metadata": {},
   "outputs": [
    {
     "data": {
      "text/plain": [
       "'–95'"
      ]
     },
     "execution_count": 113,
     "metadata": {},
     "output_type": "execute_result"
    }
   ],
   "source": [
    "df = df[['title', 'text', 'rating']]"
   ]
  },
  {
   "cell_type": "markdown",
   "metadata": {},
   "source": [
    "Переведем рейтинг в [0, 1]"
   ]
  },
  {
   "cell_type": "code",
   "execution_count": 114,
   "metadata": {},
   "outputs": [],
   "source": [
    "df['rating'] = pd.to_numeric(df['rating'].apply(lambda s: s.replace('–', '-')))\n",
    "df['rating'] = df['rating'] + np.abs(min(df['rating']))\n",
    "df['rating'] = df['rating'] / max(df['rating'])"
   ]
  },
  {
   "cell_type": "code",
   "execution_count": 117,
   "metadata": {},
   "outputs": [
    {
     "data": {
      "text/plain": [
       "0.0"
      ]
     },
     "execution_count": 117,
     "metadata": {},
     "output_type": "execute_result"
    }
   ],
   "source": [
    "min(df['rating'])"
   ]
  },
  {
   "cell_type": "markdown",
   "metadata": {},
   "source": [
    "Хочется:\n",
    "\n",
    "1) tf-idf текста статьи\n",
    "\n",
    "2) word2vec загаловка статьи\n",
    "\n",
    "Для 1 делаем:\n",
    "\n",
    "1) предобработка\n",
    "\n",
    "2) перевод в вектор\n",
    "\n",
    "Для 2:\n",
    "\n",
    "хз("
   ]
  },
  {
   "cell_type": "code",
   "execution_count": 118,
   "metadata": {},
   "outputs": [
    {
     "name": "stderr",
     "output_type": "stream",
     "text": [
      "[nltk_data] Downloading package stopwords to\n",
      "[nltk_data]     C:\\Users\\gizat\\AppData\\Roaming\\nltk_data...\n",
      "[nltk_data]   Package stopwords is already up-to-date!\n"
     ]
    },
    {
     "data": {
      "text/plain": [
       "True"
      ]
     },
     "execution_count": 118,
     "metadata": {},
     "output_type": "execute_result"
    }
   ],
   "source": [
    "import nltk\n",
    "from nltk.corpus import stopwords\n",
    "nltk.download('stopwords')"
   ]
  },
  {
   "cell_type": "code",
   "execution_count": 51,
   "metadata": {},
   "outputs": [],
   "source": [
    "wnl = nltk.WordNetLemmatizer()\n",
    "from nltk.tokenize import word_tokenize, sent_tokenize\n",
    "stopWords = set(stopwords.words(\"russian\"))\n",
    "from pymystem3 import Mystem\n",
    "from nltk.stem.snowball import SnowballStemmer\n",
    "import re\n",
    "import string\n",
    "\n",
    "mystem = Mystem() \n",
    "stemmer = SnowballStemmer(language=\"russian\")\n",
    "def remove_numbers(text):\n",
    "    return ''.join([i if not i.isdigit() else ' ' for i in text])\n",
    "\n",
    "def remove_punctuation(text):\n",
    "    punc = \"!\\\"#$%&\\'()*+,-./:;<=>?@[\\\\]^_`{|}~»«—–-\"\n",
    "    return \"\".join([ch if ch not in punc else ' ' for ch in text])\n",
    "\n",
    "def remove_multiple_spaces(text):\n",
    "    return re.sub(r'\\s+', ' ', text, flags=re.I)\n",
    "\n",
    "def lemmatize(text):\n",
    "    return ''.join(mystem.lemmatize(text.lower()))\n",
    "\n",
    "def stem(text):\n",
    "    return ''.join([stemmer.stem(word) for word in text])\n",
    "\n",
    "def delete_stopwords(text):\n",
    "    return ' '.join([(word) for word in word_tokenize(text) if word not in stopWords])\n",
    "\n",
    "def preproccessing2(text):\n",
    "    return remove_multiple_spaces((remove_punctuation(delete_stopwords(remove_numbers(lemmatize(text.rstrip()))))))\n",
    "\n",
    "def preproccessing(text):\n",
    "    return remove_multiple_spaces(delete_stopwords(stem(remove_numbers(remove_punctuation(text.rstrip())))))"
   ]
  },
  {
   "cell_type": "code",
   "execution_count": 120,
   "metadata": {},
   "outputs": [
    {
     "data": {
      "application/vnd.jupyter.widget-view+json": {
       "model_id": "e2b89e22abf8413fb39ea7aa5b5c5feb",
       "version_major": 2,
       "version_minor": 0
      },
      "text/plain": [
       "Pandas Apply:   0%|          | 0/500 [00:00<?, ?it/s]"
      ]
     },
     "metadata": {},
     "output_type": "display_data"
    },
    {
     "data": {
      "application/vnd.jupyter.widget-view+json": {
       "model_id": "a42eaf1616384980a7b96442e6c6e13d",
       "version_major": 2,
       "version_minor": 0
      },
      "text/plain": [
       "Pandas Apply:   0%|          | 0/500 [00:00<?, ?it/s]"
      ]
     },
     "metadata": {},
     "output_type": "display_data"
    }
   ],
   "source": [
    "df_head = df.head(500)\n",
    "df_head['preproc_text'] = df_head['text'].swifter.apply(preproccessing)\n",
    "df_head['preproc_title'] = df_head['title'].swifter.apply(preproccessing)"
   ]
  },
  {
   "cell_type": "code",
   "execution_count": 122,
   "metadata": {},
   "outputs": [],
   "source": [
    "vectorizer = TfidfVectorizer()\n",
    "tfidf_text = vectorizer.fit_transform(df_head.preproc_text)"
   ]
  },
  {
   "cell_type": "code",
   "execution_count": 124,
   "metadata": {},
   "outputs": [],
   "source": [
    "f = open('pickled', 'wb')\n",
    "data = {'titles': df_head['title'].to_list(), 'texts_vec': tfidf_text.todense(),\n",
    "        'ratings': df_head['rating'].to_list(), 'text_model': vectorizer, 'texts': df_head['text'].to_list(),\n",
    "       'texts_processed': df_head['preproc_text'].to_list(), 'titles_processed': df_head['preproc_title'].to_list()}\n",
    "pickle.dump(data, f)\n",
    "f.close()"
   ]
  },
  {
   "cell_type": "code",
   "execution_count": 61,
   "metadata": {},
   "outputs": [],
   "source": [
    "#df_head.to_csv('head.csv')"
   ]
  },
  {
   "cell_type": "code",
   "execution_count": null,
   "metadata": {},
   "outputs": [],
   "source": []
  }
 ],
 "metadata": {
  "kernelspec": {
   "display_name": "Python 3 (ipykernel)",
   "language": "python",
   "name": "python3"
  },
  "language_info": {
   "codemirror_mode": {
    "name": "ipython",
    "version": 3
   },
   "file_extension": ".py",
   "mimetype": "text/x-python",
   "name": "python",
   "nbconvert_exporter": "python",
   "pygments_lexer": "ipython3",
   "version": "3.8.12"
  }
 },
 "nbformat": 4,
 "nbformat_minor": 4
}
